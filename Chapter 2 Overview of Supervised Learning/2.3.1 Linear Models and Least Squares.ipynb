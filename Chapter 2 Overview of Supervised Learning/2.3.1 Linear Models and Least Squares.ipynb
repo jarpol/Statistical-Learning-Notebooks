{
 "cells": [
  {
   "cell_type": "markdown",
   "metadata": {},
   "source": [
    "### 2.3.1 Linear Models and Least Squares"
   ]
  },
  {
   "cell_type": "markdown",
   "metadata": {},
   "source": [
    "Given a vector of inputs, $X^T = X_1, X_2, \\dots, X_p$ we predict the output $Y$ via the model "
   ]
  },
  {
   "cell_type": "markdown",
   "metadata": {},
   "source": [
    "$$\\hat Y = \\hat {\\beta_0} + \\sum^p_{j=1}X_j \\hat{\\beta_j}$$"
   ]
  },
  {
   "cell_type": "markdown",
   "metadata": {},
   "source": [
    "where  $\\hat {\\beta_j}$ is a coefficient and $\\hat {\\beta_0}$ is the intercept (bias) and is the mean of the dependent variable, $Y$ when we set all of the independent variables in the column vector $X$ in our model to zero. If we include the constant variable $1$ in $X$, and include the intercept in $\\hat{\\beta_j}$ then the model can be written as an inner product  "
   ]
  },
  {
   "cell_type": "markdown",
   "metadata": {},
   "source": [
    "$$\\hat Y = X^T \\hat{\\beta}$$"
   ]
  },
  {
   "cell_type": "markdown",
   "metadata": {},
   "source": [
    "Viewed as a function over the p-dimensional input space, $f(X) = \\hat Y = X^T \\hat{\\beta}$ is a linear function and $f'(X) = \\beta$ is a vector in input space that points in the steepest uphill direction."
   ]
  },
  {
   "cell_type": "markdown",
   "metadata": {},
   "source": [
    "To learn the constants in $\\beta$ we can use choose the coefficients which minimizes the resisual sum of squares"
   ]
  },
  {
   "cell_type": "markdown",
   "metadata": {},
   "source": [
    "$$RSS(\\beta) = \\sum^N_{i=1}(y_i - x_i^T\\beta)^2 = (y-X\\beta)^T(y-X\\beta)$$"
   ]
  },
  {
   "cell_type": "markdown",
   "metadata": {},
   "source": [
    "where $X$ is an $N × p$ matrix with each row an input vector, and $y$ is an\n",
    "N-vector of the outputs in the training set. Differentiating w.r.t. $\\beta$ we get\n",
    "the normal equations"
   ]
  },
  {
   "cell_type": "markdown",
   "metadata": {},
   "source": [
    "$$X^T(y-X\\beta)=0$$"
   ]
  },
  {
   "cell_type": "markdown",
   "metadata": {},
   "source": [
    "If $X^TX$ is invertible (there exists an $n × n$ matrix $A$ such that $AX^TX = X^TXA=I$), then the unique solution is given by"
   ]
  },
  {
   "cell_type": "markdown",
   "metadata": {},
   "source": [
    "$$\\hat{\\beta} = (X^TX)^{-1}X^Ty$$"
   ]
  },
  {
   "cell_type": "markdown",
   "metadata": {},
   "source": [
    "The fitted value, $\\hat{y_i}$ at the $i$th input $x_i$ is then"
   ]
  },
  {
   "cell_type": "markdown",
   "metadata": {},
   "source": [
    "\n",
    "$$\\hat{y_i} = x_i^T\\hat{\\beta}$$"
   ]
  },
  {
   "cell_type": "code",
   "execution_count": null,
   "metadata": {},
   "outputs": [],
   "source": []
  }
 ],
 "metadata": {
  "kernelspec": {
   "display_name": "Python 3",
   "language": "python",
   "name": "python3"
  },
  "language_info": {
   "codemirror_mode": {
    "name": "ipython",
    "version": 3
   },
   "file_extension": ".py",
   "mimetype": "text/x-python",
   "name": "python",
   "nbconvert_exporter": "python",
   "pygments_lexer": "ipython3",
   "version": "3.7.4"
  }
 },
 "nbformat": 4,
 "nbformat_minor": 2
}
